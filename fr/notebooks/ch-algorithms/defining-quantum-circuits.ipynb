{
  "cells": [
    {
      "cell_type": "markdown",
      "metadata": {
        "tags": [
          "remove_cell"
        ]
      },
      "source": [
        "# Circuits quantiques"
      ]
    },
    {
      "cell_type": "markdown",
      "metadata": {
      },
      "source": [
        "## Contenu\n",
        "\n",
        "1. [introduction](#intro)\n",
        "2. [Qu'est-ce qu'un circuit quantique ?](#whatis)\n",
        "3. [Exemple : téléportation quantique](#teleportation)\n",
        "4. [Exemple : Solveurs propres quantiques variationnels](#vqe)\n",
        "5. [Pourquoi les pièces classiques ?](#why-classical)\n",
        "\n",
        "## 1. Introduction<a id=\"intro\"></a>\n",
        "\n",
        "Jusqu'à présent, nous avons vu diverses portes [mono-qubit](https://qiskit.org/textbook/ch-states/single-qubit-gates.html) et [multi-qubit](https://qiskit.org/textbook/ch-gates/introduction.html) . Nous avons également vu comment utiliser ces portes de concert avec d'autres composants pour construire des circuits quantiques.\n",
        "\n",
        "Avant d'implémenter des algorithmes quantiques sur de vrais ordinateurs quantiques, il est important de souligner concrètement la définition d'un circuit quantique, car nous allons construire des circuits quantiques pour implémenter ces algorithmes.\n",
        "\n",
        "## 2. Qu'est-ce qu'un circuit quantique ?<a id=\"whatis\"></a>\n",
        "\n",
        "Un circuit quantique est une routine de calcul consistant en des *opérations quantiques cohérentes sur des données quantiques, telles que des qubits, et un calcul classique simultané en temps réel* . Il s'agit d'une séquence ordonnée de *portes quantiques,* de *mesures et de réinitialisations,* qui peuvent toutes être conditionnées et utiliser les données du calcul classique en temps réel.\n",
        "\n",
        "Un ensemble de portes quantiques est dit [universel](https://qiskit.org/textbook/ch-gates/proving-universality.html) si toute transformation unitaire des données quantiques peut être efficacement approchée arbitrairement ainsi qu'une séquence de portes dans l'ensemble. Tout programme quantique peut être représenté par une séquence de circuits quantiques et de calculs classiques non concurrents.\n",
        "\n",
        "## 3. Exemple : téléportation quantique<a id=\"teleportation\"></a>\n",
        "\n",
        "Jetez un œil au circuit quantique ci-dessous. Vous apprendrez plus loin dans ce chapitre qu'il implémente [l'algorithme de téléportation quantique](https://qiskit.org/textbook/ch-algorithms/teleportation.html) . Pour l'instant, il suffit de regarder les composants du circuit quantique.\n",
        "\n",
        "![Téléportation quantique étiquetée](images/teleportation_labelled.svg)\n",
        "\n",
        "Le circuit quantique utilise trois qubits et deux bits classiques. Il y a quatre composants principaux dans ce circuit quantique.\n",
        "\n",
        "### Initialisation et réinitialisation\n",
        "\n",
        "Tout d'abord, nous devons commencer notre calcul quantique avec un état quantique bien défini. Ceci est réalisé en utilisant les opérations d'initialisation et de réinitialisation. Les réinitialisations peuvent être effectuées par une combinaison de portes à un seul qubit et de calculs classiques simultanés en temps réel qui surveillent si nous avons réussi à créer l'état souhaité grâce à des mesures. L'initialisation de $q_0$ dans un état désiré $\\vert\\psi\\rangle$ peut alors suivre en appliquant des portes à un seul qubit.\n",
        "\n",
        "### Portes quantiques\n",
        "\n",
        "Deuxièmement, nous appliquons une séquence de portes quantiques qui manipulent les trois qubits comme requis par l'algorithme de téléportation. Dans ce cas, nous n'avons qu'à appliquer les portes Hadamard à un seul qubit ($H$) et Controlled-X à deux qubits ($\\oplus$).\n",
        "\n",
        "### Des mesures\n",
        "\n",
        "Troisièmement, nous mesurons deux des trois qubits. Un ordinateur classique interprète les mesures de chaque qubit comme des résultats classiques (0 et 1) et les stocke dans les deux bits classiques.\n",
        "\n",
        "### Portes quantiques conditionnées de façon classique\n",
        "\n",
        "Quatrièmement, nous appliquons des portes quantiques $Z$ et $X$ à un seul qubit sur le troisième qubit. Ces portes sont conditionnées sur les résultats des mesures qui sont stockés dans les deux bits classiques. Dans ce cas, nous utilisons les résultats du calcul classique simultanément en temps réel dans le même circuit quantique."
      ]
    },
    {
      "cell_type": "markdown",
      "metadata": {
      },
      "source": [
        "## 4. Exemple : Eigensolvers quantiques variationnels<a id=\"vqe\"></a>\n",
        "\n",
        "Voici un exemple de programme quantique. Vous apprendrez dans les chapitres suivants qu'il implémente un [solveur propre quantique variationnel](https://qiskit.org/textbook/ch-applications/vqe-molecules.html) . Dans ce programme, un ordinateur classique fonctionne de concert de manière *non simultanée* avec un ordinateur quantique.\n",
        "\n",
        "![Eigensolver quantique variationnel étiqueté](images/vqe-labeled.png)\n",
        "\n",
        "### Le bloc quantique\n",
        "\n",
        "Comme dans l'exemple de téléportation quantique ci-dessus, un état quantique $\\vert\\Psi(\\theta)\\rangle$ est préparé par une combinaison de réinitialisations avec des portes quantiques à un ou plusieurs qubits. Ici, les paramètres de l'état sont paramétrés à l'aide de la quantité $\\theta$. Une fois préparé, l'état quantique est ensuite manipulé à l'aide de portes quantiques et mesuré. Toutes les opérations au sein du bloc quantique consistent en des circuits quantiques.\n",
        "\n",
        "### Le bloc classique\n",
        "\n",
        "Une fois l'état quantique mesuré, un ordinateur classique interprète ces résultats de mesure et calcule leur coût à l'aide d'une fonction de coût qui a été choisie pour l'application prévue. Sur la base de ce coût, l'ordinateur classique détermine une autre valeur pour le paramètre $\\theta$.\n",
        "\n",
        "### Fonctionnement combiné\n",
        "\n",
        "Une fois que l'ordinateur classique a déterminé le paramètre suivant pour $\\theta$, une séquence de réinitialisations, des portes quantiques à un et plusieurs qubits sont utilisées dans un circuit quantique pour préparer $\\vert\\Psi(\\theta)\\rangle$, et ceci le processus se poursuit jusqu'à ce que le coût des états quantiques mesurés se stabilise, ou jusqu'à ce qu'un autre résultat prédéterminé soit atteint."
      ]
    },
    {
      "cell_type": "markdown",
      "metadata": {
      },
      "source": [
        "## 5. Pourquoi les pièces classiques ?<a id=\"why-classical\"></a>\n",
        "\n",
        "Alors qu'un ordinateur quantique universel peut faire tout ce que n'importe quel ordinateur classique peut faire, nous ajoutons souvent des composants classiques à nos circuits quantiques car les états quantiques sont fragiles.\n",
        "\n",
        "Lorsque nous mesurons le qubit, nous effondrons son état et détruisons une grande partie de l'information. Étant donné que toute mesure ne fait que détruire des informations, nous pouvons en théorie toujours mesurer en dernier et ne perdre aucun avantage informatique. En réalité, la mesure précoce offre de nombreux avantages pratiques.\n",
        "\n",
        "Par exemple, dans le circuit de téléportation, nous mesurons les qubits afin de pouvoir envoyer les informations sur des canaux classiques au lieu de canaux quantiques. L'avantage est que les canaux classiques sont très stables, alors que nous n'avons pas vraiment de moyen d'envoyer des informations quantiques à d'autres personnes car les canaux sont si difficiles à créer.\n",
        "\n",
        "Dans l'exemple du solveur propre quantique variationnel, diviser le calcul en calculs quantiques plus petits nous fait perdre un avantage de calcul, mais compense cela sur du matériel bruyant en réduisant le temps de superposition de nos qubits. Cela signifie qu'il y a moins de chance que des interférences introduisent des inexactitudes dans nos résultats.\n",
        "\n",
        "Enfin, pour utiliser les résultats de notre calcul quantique dans notre monde classique et quotidien, nous devons mesurer et interpréter ces états à la fin de notre calcul.\n"
      ]
    }
  ],
  "metadata": {
    "kernelspec": {
      "display_name": "Python 3 (ipykernel)",
      "language": "python",
      "name": "python3"
    },
    "language_info": {
      "codemirror_mode": {
        "name": "ipython",
        "version": 3
      },
      "file_extension": ".py",
      "mimetype": "text/x-python",
      "name": "python",
      "nbconvert_exporter": "python",
      "pygments_lexer": "ipython3",
      "version": "3.9.7"
    }
  },
  "nbformat": 4,
  "nbformat_minor": 2
}
