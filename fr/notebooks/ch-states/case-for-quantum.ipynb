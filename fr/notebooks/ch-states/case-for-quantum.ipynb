{
  "cells": [
    {
      "cell_type": "markdown",
      "metadata": {
        "tags": [
          "remove_cell"
        ]
      },
      "source": [
        "# Le cas des ordinateurs quantiques"
      ]
    },
    {
      "cell_type": "markdown",
      "metadata": {
      },
      "source": [
        "## 1. La complexité de l'ajout<a id=\"adding\"></a>\n",
        "\n",
        "Le cas des ordinateurs quantiques, en termes simples, est qu'ils peuvent résoudre certains problèmes qu'aucun ordinateur classique ne pourrait jamais résoudre. Pour comprendre pourquoi il en est ainsi, nous devons d'abord considérer l'effort de calcul nécessaire pour résoudre certains problèmes.\n",
        "\n",
        "Pour commencer, nous pouvons reprendre l'algorithme considéré dans la première section : ajouter deux nombres.\n",
        "\n",
        "```code\n",
        "   9213\n",
        "+  1854\n",
        "=  ????\n",
        "```\n",
        "\n",
        "L'addition de deux nombres à $n$ chiffres peut être effectuée avec un ensemble d'opérations simples, dont chacune consiste simplement à ajouter deux nombres à un chiffre. Pour analyser la complexité de la procédure, nous pouvons réfléchir au nombre de ces ajouts de base nécessaires et à la façon dont ce nombre dépend de $n$. Nous appellerons ce nombre $c(n)$.\n",
        "\n",
        "Dans le cas le plus simple, où nous n'avons pas besoin de porter un 1 à aucun moment, seuls $n$ ajouts de base sont nécessaires. Dans le pire des cas, nous devrons effectuer $n$ opérations de report, chacune nécessitant un ajout de base supplémentaire. De ces considérations, nous pouvons conclure que $n \\leq c(n) \\leq 2n$.\n",
        "\n",
        "## 2. Notation Big O<a id=\"big-o\"></a>\n",
        "\n",
        "Nous pouvons résumer ce résultat en disant que $c(n)$ croît linéairement avec $n$. Plus généralement, on peut dire qu'une fonction linéaire de $n$ peut être trouvée qui agit comme une borne supérieure pour $c(n)$ quand $n$ est grand. Comme il s'agit d'une phrase longue et verbeuse, nous ne voudrons pas le dire très souvent. Au lieu de cela, nous pouvons l'exprimer de manière plus compacte en utilisant la «notation grand O».\n",
        "\n",
        "<!-- ::: q-block.reminder -->\n",
        "\n",
        "## Rappels\n",
        "\n",
        "\n",
        "<summary>Notation grand O</summary> Pour certains exemples de fonctions $f(x)$ et $g(x)$ et de paramètre $x$, l'instruction $f(x) = O(g(x))$ signifie qu'il existe des nombres finis $M&gt;0 $ et $x_0$ tels que $$ f(x) \\leq M g(x) \\forall x&gt;x_0. $$\n",
        "\n",
        "<!-- ::: -->\n",
        "\n",
        "La notation Big O est utile car elle nous permet de comparer comment les ressources/le temps d'exécution requis par un algorithme évoluent avec la taille d'entrée, indépendamment de la plate-forme spécifique et de l'implémentation de l'algorithme à l'étude. Vous trouverez ci-dessous des exemples de facteurs d'échelle courants d'un runtime $N$ en fonction de la taille d'entrée $n$ ; il est clair que pour une taille de problème suffisamment grande, le temps d'exécution d'un algorithme $O(a^n)$ dépassera celui d'un algorithme $O(n^b)$, où $a$ et $b$ sont des constantes.\n",
        "\n",
        "![](images/1920px-Comparison_computational_complexity.png)\n",
        "\n",
        "Avec cette notation, la propriété décrite ci-dessus s'exprime simplement par $c(n) = O(n)$. Cela capture le comportement linéaire sans avoir besoin de s'attarder sur les détails. Par conséquent, indépendamment du fait que $c(n) = n$, $c(n) = 2n$, ou autre chose, nous pouvons simplement dire que $c(n) = O(n)$.\n",
        "\n",
        "Il y a une hypothèse cachée dans ce que nous avons considéré jusqu'ici. En parlant du nombre de chiffres, nous avons supposé l'utilisation d'un système de numération spécifique. Cependant, le nombre de chiffres dépendra du système de numération que nous utilisons, qu'il soit décimal, binaire ou autre. Par exemple, le nombre de bits $n_2$ requis pour exprimer un nombre est lié au nombre de chiffres décimaux $n_{10}$ requis pour exprimer le même nombre en\n",
        "\n",
        "$n_2 = \\left\\lceil \\frac{\\log 10}{ \\log 2} , n_{10} \\right\\rceil \\approx 3.3 , n_{10}.$\n",
        "\n",
        "Comme il s'agit également d'une relation linéaire, cela ne change pas la façon dont nous exprimons la complexité en utilisant la notation grand O. On peut également dire que $c(n_2) = O(n_2)$, $c(n_{10}) = O(n_{10})$, ou encore $c(n_{10}) = O(n_{ 2})$. C'est pour cette raison que l'on peut souvent simplement parler du nombre de chiffres, $n$, sans avoir besoin de préciser quel système de numération est utilisé.\n",
        "\n",
        "## 3. Théorie de la complexité<a id=\"complexity\"></a>\n",
        "\n",
        "La théorie de la complexité est l'étude de l'effort de calcul requis pour exécuter n'importe quel algorithme. En considérant le meilleur algorithme possible pour résoudre un problème donné, nous pouvons également étudier l'effort de calcul inhérent à la résolution de ce problème. Pour l'addition nous connaissons déjà l'algorithme optimal, et savons donc qu'il s'agit d'un problème de complexité $O(n)$.\n",
        "\n",
        "La multiplication n'est pas si simple. Les algorithmes que vous avez appris à l'école pour multiplier deux nombres à $n$ chiffres auront nécessité $O(n^2)$ opérations de base, telles que des additions et des multiplications à un chiffre. Bien que des algorithmes avec une complexité asymptotique plus faible aient été trouvés, il est largement considéré comme impossible d'effectuer une multiplication avec une complexité $O(n)$.\n",
        "\n",
        "Même ainsi, la multiplication est loin d'être le problème le plus complexe. Un exemple de problème beaucoup plus complexe est la factorisation : prendre un nombre à $n$ chiffres et trouver ses facteurs premiers. L'algorithme le plus connu dans ce cas a une complexité inférieure à $O\\left(e^{n^{1/3}}\\right)$. L'exponentielle ici signifie que la complexité croît très rapidement et fait de la factorisation un problème très difficile à résoudre.\n",
        "\n",
        "Pour illustrer ce point en utilisant le temps de calcul réel, nous pouvons prendre un exemple récent.$^{1}$ Prenons le nombre à 829 chiffres suivant."
      ]
    },
    {
      "cell_type": "code",
      "execution_count": 1,
      "metadata": {
      },
      "outputs": [

      ],
      "source": [
        "rsa_250 = 2140324650240744961264423072839333563008614715144755017797754920881418023447140136643345519095804679610992851872470914587687396261921557363047454770520805119056493106687691590019759405693457452230589325976697471681738069364894699871578494975937497937"
      ]
    },
    {
      "cell_type": "markdown",
      "metadata": {
      },
      "source": [
        "Si vous essayez d'utiliser votre ordinateur pour additionner ou multiplier des nombres de cette taille, vous constaterez qu'il peut résoudre ces problèmes très rapidement. Si vous multipliez le nombre de processeurs de votre ordinateur par le nombre de secondes nécessaires pour obtenir le nombre de core-secondes, vous êtes sûr de trouver qu'il faut beaucoup moins de 1 core-seconde.\n",
        "\n",
        "Cependant, effectuer une factorisation sur ce nombre nécessite un supercalculateur et environ 2700 années-cœur, ce qui donne finalement les deux facteurs suivants."
      ]
    },
    {
      "cell_type": "code",
      "execution_count": 2,
      "metadata": {
      },
      "outputs": [
        {
          "data": {
            "text/plain": [
              "2140324650240744961264423072839333563008614715144755017797754920881418023447140136643345519095804679610992851872470914587687396261921557363047454770520805119056493106687691590019759405693457452230589325976697471681738069364894699871578494975937497937"
            ]
          },
          "execution_count": 2,
          "metadata": {
          },
          "output_type": "execute_result"
        }
      ],
      "source": [
        "p = 64135289477071580278790190170577389084825014742943447208116859632024532344630238623598752668347708737661925585694639798853367\n",
        "q = 33372027594978156556226010605355114227940760344767554666784520987023841729210037080257448673296881877565718986258036932062711\n",
        "p*q"
      ]
    },
    {
      "cell_type": "markdown",
      "metadata": {
      },
      "source": [
        "Pour la factorisation de nombres plus grands, nous arrivons facilement à un point où un supercalculateur de la taille d'une planète devrait fonctionner pendant l'âge de l'univers. De toute évidence, un tel problème est pratiquement impossible.\n",
        "\n",
        "Jusqu'à présent, nous n'avons considéré que les opérations mathématiques sur des nombres à $n$ chiffres, la complexité étant exprimée par le nombre d'opérations simples à un chiffre requises. Cependant, la théorie de la complexité peut être utilisée pour analyser n'importe quelle méthode de calcul pour tout type de problème, qu'il s'agisse de rechercher des bases de données, de rendre des graphiques, de simuler des dynamiques ou de traverser un donjon dans *Legend of Zelda* . Dans chaque cas, nous sommes en mesure de trouver un paramètre ou un ensemble de paramètres qui nous servent de taille d'entrée et d'exprimer la complexité en termes de taille d'entrée en utilisant la notation Big O. Pour rechercher une base de données de $N$ entrées, par exemple, la complexité est de $O(N)$.\n",
        "\n",
        "Formellement, la définition de la complexité d'un algorithme dépend du modèle théorique exact de calcul que nous utilisons. Chaque modèle possède un ensemble d'opérations de base, appelées opérations primitives, avec lesquelles n'importe quel algorithme peut être exprimé. Pour les circuits booléens, comme nous l'avons considéré dans la première section, les opérations primitives sont les portes logiques. Pour les machines de Turing, une forme hypothétique d'ordinateur proposée par Alan Turing, nous imaginons un appareil parcourant et manipulant des informations stockées sur une bande. Le modèle RAM a un ensemble plus complexe d'opérations primitives et agit comme une forme idéalisée des ordinateurs que nous utilisons tous les jours. Ce sont tous des modèles de calcul numérique, basés sur des manipulations discrétisées de valeurs discrètes. Aussi différents qu'ils puissent paraître les uns des autres, il s'avère qu'il est très facile pour chacun d'eux de simuler les autres. Cela signifie que dans la plupart des cas, la complexité de calcul ne dépend pas de manière significative du modèle utilisé. Plutôt que d'énoncer la complexité spécifiquement pour le modèle RAM ou les machines de Turing, on peut donc simplement parler de complexité pour les calculateurs numériques."
      ]
    },
    {
      "cell_type": "markdown",
      "metadata": {
      },
      "source": [
        "## 4. Au-delà du calcul numérique<a id=\"beyond\"></a>\n",
        "\n",
        "Bien que les ordinateurs numériques dominent maintenant, ils ne sont pas la seule forme de calcul. Les ordinateurs analogiques ont également été largement étudiés et utilisés dans le passé. Contrairement aux valeurs discrètes des ordinateurs numériques, celles-ci sont basées sur des manipulations précises de paramètres variant en continu. Il a parfois été affirmé que de tels dispositifs pourraient résoudre rapidement des problèmes insolubles pour les ordinateurs numériques. Cependant, de telles affirmations n'ont jamais été réalisées. Une pierre d'achoppement majeure pour les ordinateurs analogiques est l'incapacité de construire des appareils avec une précision arbitrairement élevée. Dans les calculateurs numériques, la discrétisation signifie que les erreurs doivent être relativement importantes pour être perceptibles, et des méthodes de détection et de correction de telles erreurs peuvent alors être mises en œuvre. Dans les ordinateurs analogiques, cependant, les erreurs peuvent être arbitrairement petites et impossibles à détecter, mais leurs effets peuvent néanmoins s'accumuler pour ruiner un calcul.\n",
        "\n",
        "Si l'on devait proposer un modèle idéal de calcul, il pourrait chercher à combiner la robustesse d'un ordinateur numérique avec les manipulations subtiles d'un ordinateur analogique. Pour y parvenir, nous pouvons nous tourner vers la mécanique quantique. Nous avons déjà vu que les qubits sont un système avec des sorties discrètes `0` et `1` , et pourtant peuvent exister dans des états qui ne peuvent être décrits que par des paramètres continus. Il s'agit d'un exemple particulier de la notion bien connue de dualité « onde-particule » typique des systèmes quantiques. Ils ne peuvent pas être entièrement décrits comme discrets ou continus, mais plutôt comme une combinaison des deux. Comme l'a dit Einstein,$^{2}$\n",
        "\n",
        "> « Il semble que nous devions utiliser parfois une théorie et parfois l'autre, alors que parfois nous pouvons utiliser l'une ou l'autre. Nous sommes confrontés à un nouveau type de difficulté. Nous avons deux images contradictoires de la réalité ; séparément, aucun d'eux n'explique complètement le phénomène... mais ensemble, ils le font.\n",
        "\n",
        "Un ordinateur quantique, dont les opérations primitives sont des portes appliquées aux qubits, n'est donc ni analogique ni numérique, mais quelque chose d'unique. Dans les chapitres suivants, nous explorerons les conséquences de cette nature unique. Nous verrons que les ordinateurs quantiques peuvent résoudre des problèmes d'une complexité radicalement différente des ordinateurs numériques. En fait, l'informatique quantique est la seule technologie connue qui peut être exponentiellement plus rapide que les ordinateurs classiques pour certaines tâches, réduisant potentiellement les temps de calcul de plusieurs années à quelques minutes. Nous explorerons également comment la correction d'erreur quantique peut éliminer les effets de toute imperfection."
      ]
    },
    {
      "cell_type": "markdown",
      "metadata": {
      },
      "source": [
        "## 5. Quand utiliser un ordinateur quantique<a id=\"when\"></a>\n",
        "\n",
        "Avec les qubits et les portes quantiques, nous pouvons concevoir de nouveaux algorithmes qui sont fondamentalement différents des algorithmes classiques numériques et analogiques. De cette manière, nous espérons trouver des solutions à des problèmes insolubles pour les ordinateurs classiques.\n",
        "\n",
        "Une manière de procéder est lorsque nous avons une fonction pour laquelle nous voulons déterminer une propriété globale. Par exemple, si nous voulons trouver la valeur d'un paramètre $x$ pour lequel une fonction $f(x)$ est un minimum, ou la période de la fonction si $f(x)$ est périodique. Un algorithme sur un ordinateur numérique peut utiliser un processus dans lequel $f(x)$ est calculé pour une variété d'entrées différentes afin d'obtenir suffisamment d'informations sur la propriété globale. Avec un ordinateur quantique, cependant, le fait que nous puissions créer des états de superposition signifie que la fonction peut être appliquée simultanément à de nombreuses entrées possibles. Cela ne signifie pas que nous pouvons accéder à toutes les sorties possibles puisque la mesure d'un tel état nous donne simplement un résultat unique. Cependant, nous pouvons plutôt chercher à induire un effet d'interférence quantique, qui révélera la propriété globale que nous recherchons.\n",
        "\n",
        "Cette description générale illustre le fonctionnement de nombreux algorithmes quantiques qui ont déjà été découverts. Un exemple frappant est l'algorithme de Grover, qui réduit la complexité de la recherche dans $N$ éléments de $O(N)$ à $O(N^{1/2})$. Cette accélération quadratique pourrait être utile dans de nombreuses applications dont les tâches peuvent être exprimées sous forme de recherche non structurée, telles que les problèmes d'optimisation et l'apprentissage automatique."
      ]
    },
    {
      "cell_type": "code",
      "execution_count": null,
      "metadata": {
        "tags": [
          "remove_input"
        ]
      },
      "outputs": [

      ],
      "source": [
        "# This code is to create the interactive figure\n",
        "from bokeh.layouts import column\n",
        "from bokeh.models import ColumnDataSource, CustomJS, Slider\n",
        "from bokeh.plotting import figure, show\n",
        "from bokeh.embed import file_html\n",
        "from bokeh.resources import CDN\n",
        "import numpy as np\n",
        "import IPython\n",
        "\n",
        "x = np.arange(0,500)\n",
        "y_linear = x\n",
        "y_sqrt = 7.5*np.sqrt(x)\n",
        "\n",
        "linear_source = ColumnDataSource(data=dict(x=x, y=y_linear))\n",
        "sqrt_source = ColumnDataSource(data=dict(x=x, y=y_sqrt))\n",
        "\n",
        "plot = figure(\n",
        "              plot_height=400, \n",
        "              plot_width=800,\n",
        "              sizing_mode=\"scale_width\",\n",
        "              tools=\"reset,save\",\n",
        "              x_range=[0, 500], y_range=[0, 500], \n",
        "              x_axis_label=\"Size of Problem\",\n",
        "              y_axis_label=\"Time Taken to Find Solution\")\n",
        "plot.line('x', 'y', source=linear_source, line_width=3, line_alpha=0.6, color=\"blue\", legend_label=\"Classical Search O(N)\")\n",
        "plot.line('x', 'y', source=sqrt_source, line_width=3, line_alpha=0.6, color=\"red\", legend_label=\"Quantum Search O(√N)\")\n",
        "plot.legend.location = \"top_left\"\n",
        "\n",
        "callback = CustomJS(args=dict(source=sqrt_source), code=\"\"\"\n",
        "        var data = source.data;\n",
        "        var f = (10-cb_obj.value)*2 + 3\n",
        "        var x = data['x']\n",
        "        var y = data['y']\n",
        "        for (var i = 0; i < x.length; i++) {\n",
        "            y[i] = f*Math.sqrt(x[i])\n",
        "        }\n",
        "        source.change.emit();\n",
        "    \"\"\")\n",
        "\n",
        "speed_slider = Slider(title=\"Relative Speed of Quantum Computer\", value=7.5, start=1.0, end=10.0, step=0.1, show_value=False)\n",
        "speed_slider.js_on_change('value', callback)\n",
        "\n",
        "layout = column(plot, speed_slider)\n",
        "\n",
        "caption = \"\"\"\n",
        "Comparing performance of algorithms across different platforms is difficult. What we can tell (through big-O-notation) is \n",
        "despite the difference in speeds between our classical and quantum computers, for a large enough problem, the quantum search \n",
        "algorithm will always out-perform the classical search algorithm.\"\"\"\n",
        "\n",
        "html_repr = file_html(layout, CDN)\n",
        "html_fig = \"<figure>{0}<figcaption>{1}</figcaption></figure>\".format(html_repr, caption)\n",
        "IPython.display.HTML(html_fig)"
      ]
    },
    {
      "cell_type": "markdown",
      "metadata": {
      },
      "source": [
        "Une accélération encore plus impressionnante est obtenue avec l'algorithme de Shor, qui analyse les fonctions périodiques au cœur du problème de factorisation. Cela permet une solution quantique pour factoriser des nombres à $n$ chiffres avec une complexité $O(n^3)$. Il s'agit d'une accélération superpolynomiale par rapport à la complexité des ordinateurs numériques, qui est pire que $O\\left(e^{n^{1/3}}\\right)$.\n",
        "\n",
        "Une autre approche des algorithmes quantiques consiste à utiliser des ordinateurs quantiques pour résoudre des problèmes quantiques. Comme nous le verrons dans le chapitre suivant, exprimer un état quantique nécessite une quantité d'informations qui évolue de manière exponentielle avec le nombre de qubits. Le simple fait d'écrire l'état de $n$ qubits devient donc une tâche insoluble pour les ordinateurs numériques à mesure que $n$ augmente. Cependant, pour un ordinateur quantique, nous avons juste besoin de $n$ qubits pour faire le même travail. Cette capacité naturelle à exprimer et à manipuler des états quantiques nous permet d'étudier et de mieux comprendre les systèmes quantiques d'intérêt, tels que les molécules et les particules fondamentales.\n",
        "\n",
        "L'application et l'adaptation d'algorithmes quantiques dans différentes industries promettent donc de permettre des cas d'utilisation perturbateurs dans les affaires et la science. Celles-ci incluent des percées dans la découverte de médicaments, l'apprentissage automatique, la découverte de matériaux, la tarification des options, le repliement des protéines et la chaîne d'approvisionnement.$^{3}$ Les problèmes pour lesquels les algorithmes classiques sont confrontés à des limites d'échelle inhérentes et qui ne nécessitent pas une grande jeu de données à charger. Pour un avantage quantique, les réponses d'un problème donné doivent fortement dépendre de manière exponentielle de nombreux degrés de liberté intriqués avec une structure telle que la mécanique quantique évolue vers une solution sans avoir à passer par tous les chemins. Notez, cependant, que la relation précise entre les problèmes qui sont \"faciles\" pour les ordinateurs quantiques (résolubles en temps polynomial) et les autres classes théoriques de la complexité est toujours une question ouverte.$^{4}$\n",
        "\n",
        "Ceci n'est qu'un avant-goût de la façon dont les algorithmes quantiques peuvent effectuer des calculs d'une manière unique. Plus de détails sur ces approches peuvent être trouvés dans les chapitres suivants. Mais nous devons d'abord regarder au-delà du seul qubit et investir du temps dans la compréhension de l'ensemble complet des portes quantiques dont nous aurons besoin. C'est l'objet du chapitre suivant."
      ]
    },
    {
      "cell_type": "markdown",
      "metadata": {
      },
      "source": [
        "## 6. Références<a id=\"references\"></a>\n",
        "\n",
        "1. https://lists.gforge.inria.fr/pipermail/cado-nfs-discuss/2020-February/001166.html\n",
        "2. Albert Einstein, Léopold Infeld (1938). L'évolution de la physique: la croissance des idées des premiers concepts à la relativité et aux quanta. La presse de l'Universite de Cambridge.\n",
        "3. https://www.ibm.com/thought-leadership/institute-business-value/report/quantumstrategy\n",
        "4. https://www.cs.virginia.edu/~robins/The_Limits_of_Quantum_Computers.pdf\n",
        "5. Image : Cmglee / CC BY-SA (https://creativecommons.org/licenses/by-sa/4.0)"
      ]
    }
  ],
  "metadata": {
    "celltoolbar": "Edit Metadata",
    "kernelspec": {
      "display_name": "Python 3",
      "language": "python",
      "name": "python3"
    },
    "language_info": {
      "codemirror_mode": {
        "name": "ipython",
        "version": 3
      },
      "file_extension": ".py",
      "mimetype": "text/x-python",
      "name": "python",
      "nbconvert_exporter": "python",
      "pygments_lexer": "ipython3",
      "version": "3.7.0"
    },
    "widgets": {
      "application/vnd.jupyter.widget-state+json": {
        "state": {
        },
        "version_major": 2,
        "version_minor": 0
      }
    }
  },
  "nbformat": 4,
  "nbformat_minor": 4
}
