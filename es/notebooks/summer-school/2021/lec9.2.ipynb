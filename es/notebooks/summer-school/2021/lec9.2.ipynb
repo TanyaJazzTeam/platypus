{
  "cells": [
    {
      "cell_type": "markdown",
      "metadata": {
      },
      "source": [
        "# Ansatze con eficiencia de hardware para el aprendizaje automático cuántico\n",
        "\n",
        "<div class=\"youtube-wrapper\">     <iframe src=\"https://www.youtube.com/embed/vW6_XUgdkoE\" title=\"YouTube video player\" frameborder=\"0\" allow=\"accelerometer; autoplay; clipboard-write; encrypted-media; gyroscope; picture-in-picture\" allowfullscreen=\"\"></iframe> </div>\n",
        "\n",
        "- Descarga [aquí](/content/summer-school/2021/resources/lecture-notes/Lecture9.2.pdf) las notas del disertante\n",
        "\n",
        "<!-- ::: q-block.reminder -->\n",
        "\n",
        "### Preguntas más frecuentes\n",
        "\n",
        "\n",
        "<summary>¿Existen referencias en las que se haya utilizado un conjunto de puertas continuas para formas variacionales? ¿Puede un optimizador ajustar los parámetros del pulso?</summary> ¡Sí! Lo probamos con QAOA, un tipo de forma variacional. Y también comencé a probar esto en circuitos de tipo QML. El optimizador puede ajustar el parámetro de pulso: le gustaría usar puertas de pulso para una integración perfecta con los módulos de la aplicación (algunas pruebas anteriores han demostrado que esto funciona bien en realidad)\n",
        "\n",
        "\n",
        "<summary>¿Y cómo lidia el transpilador con el ruido? (fuente: Preguntas y respuestas en vivo a las 4:11)</summary> Depende del ruido. En particular, dado que un C-NOT tiene una fidelidad realmente mala (una infidelidad sustancialmente mayor en comparación con los demás), la traducción de ruido minimizará cuánto realmente usa esa puerta C-NOT mala al proporcionar diferentes rutas. Una cosa a tener en cuenta, es posible que la transpiración del ruido no funcione como se supone debido a la instantánea obsoleta tomada de la medición, lo que genera resultados de mitigación de ruido no deseados.\n",
        "\n",
        "\n",
        "<summary>¿Elaboración sobre el ajuste de fase?</summary> Para el marco de referencia de laboratorio en el experimento de Rabi, podemos ajustar el eje de rotación realizando un ajuste de fase. En otras palabras, una fase gamma (en la fórmula “U=....” en la nota de clase 9.2, diapositiva 12) dicta con qué eje terminamos trabajando.\n",
        "\n",
        "\n",
        "<summary>¿En qué se diferencian las oscilaciones de Rabi de las oscilaciones de Ramsey?</summary> Oscilación Rabi: comience con un qubit en un estado fundamental. Luego aplicamos algunos pulsos (los pulsos gaussianos o cuadrados son comunes). Hay dos tipos de oscilación de Rabi: oscilación de tiempo-Rabi y oscilación de potencia-Rabi.\n",
        "\n",
        "- En la oscilación tiempo-Rabi, la amplitud MÁXIMA del pulso es la misma pero aumentamos la duración del pulso (aumentamos el área bajo la curva del pulso). El área (un cuadro en el ejemplo de la lección) bajo la curva del pulso dicta la velocidad a la que el qubit gira 0→1→0→1→0→1...... por lo que se llama pulso pi.\n",
        "- En la oscilación power-Rabi, la duración del pulso es fija pero su amplitud máxima aumenta. El área bajo la curva en este caso aumenta verticalmente.\n",
        "- Oscilación de Ramsery: aplique un pulso pi/2 para que el qubit gire desde el estado fundamental hasta un estado en el ecuador de la esfera de Bloch (vea la diapositiva 14 en la nota de lectura para la visualización). Luego espere un período de tiempo → aplique un segundo pulso → espere → tercer pulso... y así sucesivamente. Como resultado, obtenemos oscilaciones que se pueden usar para ajustar la frecuencia del qubit y determinar T2\n",
        "\n",
        "\n",
        "\n",
        "\n",
        "<!-- ::: -->"
      ]
    }
  ],
  "metadata": {
    "kernelspec": {
      "display_name": "Python 3",
      "language": "python",
      "name": "python3"
    },
    "language_info": {
      "codemirror_mode": {
        "name": "ipython",
        "version": 3
      },
      "file_extension": ".py",
      "mimetype": "text/x-python",
      "name": "python",
      "nbconvert_exporter": "python",
      "pygments_lexer": "ipython3",
      "version": "3.7.7"
    }
  },
  "nbformat": 4,
  "nbformat_minor": 4
}
