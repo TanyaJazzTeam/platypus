{
  "cells": [
    {
      "cell_type": "markdown",
      "metadata": {
        "tags": [
          "remove_cell"
        ]
      },
      "source": [
        "# Quantenschaltungen"
      ]
    },
    {
      "cell_type": "markdown",
      "metadata": {
      },
      "source": [
        "## Inhalt\n",
        "\n",
        "1. [Einführung](#intro)\n",
        "2. [Was ist ein Quantenschaltkreis?](#whatis)\n",
        "3. [Beispiel: Quantenteleportation](#teleportation)\n",
        "4. [Beispiel: Variationsquanten-Eigenlöser](#vqe)\n",
        "5. [Warum die klassischen Teile?](#why-classical)\n",
        "\n",
        "## 1. Einleitung<a id=\"intro\"></a>\n",
        "\n",
        "Bisher haben wir verschiedene [Single-Qubit-](https://qiskit.org/textbook/ch-states/single-qubit-gates.html) und [Multi-Qubit-](https://qiskit.org/textbook/ch-gates/introduction.html) Gates gesehen. Wir haben auch gesehen, wie man diese Gatter zusammen mit anderen Komponenten verwendet, um Quantenschaltkreise zu bauen.\n",
        "\n",
        "Vor der Implementierung von Quantenalgorithmen auf echten Quantencomputern ist es wichtig, die Definition eines Quantenschaltkreises konkret hervorzuheben, da wir Quantenschaltkreise bauen werden, um diese Algorithmen zu implementieren.\n",
        "\n",
        "## 2. Was ist ein Quantenschaltkreis?<a id=\"whatis\"></a>\n",
        "\n",
        "Eine Quantenschaltung ist eine Rechenroutine, die aus *kohärenten Quantenoperationen an Quantendaten wie Qubits und gleichzeitiger klassischer Berechnung in Echtzeit besteht* . Es ist eine geordnete Abfolge von *Quantengattern,* *Messungen und Rücksetzungen,* die alle konditioniert sein können und Daten aus der klassischen Echtzeitberechnung verwenden.\n",
        "\n",
        "Ein Satz von Quantengattern wird als [universell](https://qiskit.org/textbook/ch-gates/proving-universality.html) bezeichnet, wenn jede einheitliche Transformation der Quantendaten beliebig gut als eine Folge von Gattern in dem Satz effizient angenähert werden kann. Jedes Quantenprogramm kann durch eine Folge von Quantenschaltkreisen und nicht gleichzeitiger klassischer Berechnung dargestellt werden.\n",
        "\n",
        "## 3. Beispiel: Quantenteleportation<a id=\"teleportation\"></a>\n",
        "\n",
        "Schauen Sie sich den Quantenschaltkreis unten an. Sie werden später in diesem Kapitel erfahren, dass es [den Quantenteleportationsalgorithmus](https://qiskit.org/textbook/ch-algorithms/teleportation.html) implementiert. Zunächst genügt es, sich die Komponenten des Quantenschaltkreises anzusehen.\n",
        "\n",
        "![Quantenteleportation beschriftet](images/teleportation_labelled.svg)\n",
        "\n",
        "Die Quantenschaltung verwendet drei Qubits und zwei klassische Bits. Es gibt vier Hauptkomponenten in diesem Quantenschaltkreis.\n",
        "\n",
        "### Initialisierung und Reset\n",
        "\n",
        "Zuerst müssen wir unsere Quantenberechnung mit einem wohldefinierten Quantenzustand beginnen. Dies wird durch die Initialisierungs- und Rücksetzoperationen erreicht. Die Resets können durch eine Kombination aus Single-Qubit-Gates und gleichzeitiger klassischer Echtzeit-Berechnung durchgeführt werden, die überwacht, ob wir den gewünschten Zustand durch Messungen erfolgreich erzeugt haben. Die Initialisierung von $q_0$ in einen gewünschten Zustand $\\vert\\psi\\rangle$ kann dann durch Anwendung von Single-Qubit-Gates erfolgen.\n",
        "\n",
        "### Quantentore\n",
        "\n",
        "Zweitens wenden wir eine Folge von Quantengattern an, die die drei Qubits so manipulieren, wie es der Teleportationsalgorithmus erfordert. In diesem Fall müssen wir nur Single-Qubit-Hadamard-Gates ($H$) und Two-Qubit-Controlled-X-Gates ($\\oplus$) anwenden.\n",
        "\n",
        "### Messungen\n",
        "\n",
        "Drittens messen wir zwei der drei Qubits. Ein klassischer Computer interpretiert die Messungen jedes Qubits als klassische Ergebnisse (0 und 1) und speichert sie in den beiden klassischen Bits.\n",
        "\n",
        "### Klassisch konditionierte Quantengatter\n",
        "\n",
        "Viertens wenden wir auf das dritte Qubit Einzel-Qubit-Quantengatter $Z$ und $X$ an. Diese Gatter sind abhängig von den Ergebnissen der Messungen, die in den beiden klassischen Bits gespeichert sind. In diesem Fall verwenden wir die Ergebnisse der klassischen Berechnung gleichzeitig in Echtzeit innerhalb desselben Quantenschaltkreises."
      ]
    },
    {
      "cell_type": "markdown",
      "metadata": {
      },
      "source": [
        "## 4. Beispiel: Variationsquanten-Eigenlöser<a id=\"vqe\"></a>\n",
        "\n",
        "Hier ist ein Beispiel für ein Quantenprogramm. Sie werden in den folgenden Kapiteln erfahren, dass es einen [Variations-Quanten-Eigenlöser implementiert](https://qiskit.org/textbook/ch-applications/vqe-molecules.html) . In diesem Programm arbeitet ein klassischer Computer *nicht gleichzeitig* mit einem Quantencomputer zusammen.\n",
        "\n",
        "![Variational Quantum Eigensolver Beschriftet](images/vqe-labeled.png)\n",
        "\n",
        "### Der Quantenblock\n",
        "\n",
        "Wie beim obigen Beispiel der Quantenteleportation wird ein Quantenzustand $\\vert\\Psi(\\theta)\\rangle$ durch eine Kombination von Resets mit Single- und Multi-Qubit-Quantengattern hergestellt. Hier werden die Parameter des Zustands mit der Größe $\\theta$ parametrisiert. Einmal präpariert, wird der Quantenzustand dann mit Quantengattern manipuliert und gemessen. Alle Operationen innerhalb des Quantenblocks bestehen aus Quantenschaltkreisen.\n",
        "\n",
        "### Der klassische Block\n",
        "\n",
        "Sobald der Quantenzustand gemessen wurde, interpretiert ein klassischer Computer diese Messergebnisse und berechnet ihre Kosten unter Verwendung einer Kostenfunktion, die für die beabsichtigte Anwendung ausgewählt wurde. Basierend auf diesen Kosten bestimmt der klassische Computer einen anderen Wert für den Parameter $\\theta$.\n",
        "\n",
        "### Kombinierter Betrieb\n",
        "\n",
        "Sobald der klassische Computer den nächsten Parameter für $\\theta$ bestimmt, werden eine Reihe von Resets, Single- und Multi-Qubit-Quantengatter in einem Quantenschaltkreis verwendet, um $\\vert\\Psi(\\theta)\\rangle$ vorzubereiten, und das Der Prozess wird fortgesetzt, bis sich die Kosten der gemessenen Quantenzustände stabilisiert haben oder bis ein anderes vorher festgelegtes Ergebnis erreicht ist."
      ]
    },
    {
      "cell_type": "markdown",
      "metadata": {
      },
      "source": [
        "## 5. Warum die klassischen Teile?<a id=\"why-classical\"></a>\n",
        "\n",
        "Während ein universeller Quantencomputer alles kann, was ein klassischer Computer kann, fügen wir unseren Quantenschaltkreisen oft klassische Teile hinzu, weil Quantenzustände zerbrechlich sind.\n",
        "\n",
        "Wenn wir das Qubit messen, kollabieren wir seinen Zustand und zerstören viele Informationen. Da alle Messungen Informationen zerstören, können wir theoretisch immer zuletzt messen und verlieren keinen Rechenvorteil. In der Realität bietet eine frühzeitige Messung viele praktische Vorteile.\n",
        "\n",
        "In der Teleportationsschaltung messen wir beispielsweise die Qubits, damit wir die Informationen über klassische Kanäle statt über Quantenkanäle senden können. Der Vorteil ist, dass klassische Kanäle sehr stabil sind, während wir nicht wirklich eine Möglichkeit haben, Quanteninformationen an andere Menschen zu senden, da die Kanäle so schwierig zu erstellen sind.\n",
        "\n",
        "Im Beispiel des Variational Quantum Eigensolver verlieren wir durch die Aufteilung der Berechnung in kleinere Quantenberechnungen tatsächlich einen gewissen Rechenvorteil, gleichen dies jedoch auf verrauschter Hardware aus, indem die Zeit verkürzt wird, in der sich unsere Qubits in Überlagerung befinden. Dies bedeutet, dass es weniger wahrscheinlich ist, dass Interferenzen zu Ungenauigkeiten in unseren Ergebnissen führen.\n",
        "\n",
        "Um die Ergebnisse unserer Quantenberechnung schließlich in unserer klassischen Alltagswelt zu verwenden, müssen wir diese Zustände am Ende unserer Berechnung messen und interpretieren.\n"
      ]
    }
  ],
  "metadata": {
    "kernelspec": {
      "display_name": "Python 3 (ipykernel)",
      "language": "python",
      "name": "python3"
    },
    "language_info": {
      "codemirror_mode": {
        "name": "ipython",
        "version": 3
      },
      "file_extension": ".py",
      "mimetype": "text/x-python",
      "name": "python",
      "nbconvert_exporter": "python",
      "pygments_lexer": "ipython3",
      "version": "3.9.7"
    }
  },
  "nbformat": 4,
  "nbformat_minor": 2
}
