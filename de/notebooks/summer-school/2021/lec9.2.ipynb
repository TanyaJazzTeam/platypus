{
  "cells": [
    {
      "cell_type": "markdown",
      "metadata": {
      },
      "source": [
        "# Hardwareeffiziente Ansätze für Quantum Machine Learning\n",
        "\n",
        "<div class=\"youtube-wrapper\">     <iframe src=\"https://www.youtube.com/embed/vW6_XUgdkoE\" title=\"YouTube video player\" frameborder=\"0\" allow=\"accelerometer; autoplay; clipboard-write; encrypted-media; gyroscope; picture-in-picture\" allowfullscreen=\"\"></iframe> </div>\n",
        "\n",
        "- Laden Sie [sich hier](/content/summer-school/2021/resources/lecture-notes/Lecture9.2.pdf) die Dozentennotizen herunter\n",
        "\n",
        "<!-- ::: q-block.reminder -->\n",
        "\n",
        "### FAQ\n",
        "\n",
        "<details><summary> [CHANGED]Gibt es Referenzen, bei denen ein kontinuierlicher Gate-Satz für Variationsformen verwendet wurde? Kann ein Optimierer die Pulsparameter anpassen?</summary> Ja! Wir haben es mit QAOA getestet, einer Art Variationsform. Und ich habe begonnen, dies auch auf Schaltungen vom Typ QML zu testen. Der Optimierer kann den Impulsparameter anpassen - Sie möchten Impulsgatter für eine nahtlose Integration mit den Anwendungsmodulen verwenden (einige frühe Tests haben gezeigt, dass dies tatsächlich gut funktioniert).</details>\n",
        "\n",
        "<details><summary>Und wie geht der Transpiler mit dem Rauschen um? (Quelle: Live Q&amp;A bei 4m11s)</summary> Es kommt auf das Geräusch an. Da ein C-NOT eine wirklich schlechte Wiedergabetreue hat (wesentlich größere Untreue im Vergleich zu den anderen), minimiert die Rauschübersetzung, wie oft Sie dieses schlechte C-NOT-Gate tatsächlich verwenden, indem Sie verschiedene Routen bereitstellen. Denken Sie daran, dass die Geräuschableitung aufgrund des veralteten Schnappschusses aus der Messung möglicherweise nicht so funktioniert, wie sie soll, was zu unerwünschten Ergebnissen der Geräuschminderung führt.</details>\n",
        "\n",
        "<details><summary>[CHANGED]Ausarbeitung zur Phasenanpassung?</summary> Für das Laborbezugssystem im Rabi-Experiment können wir die Rotationsachse anpassen, indem wir eine Phasenanpassung durchführen. Mit anderen Worten, ein Phasen-Gamma (in der Formel „U=....“ in Vorlesungsskript 9.2, Folie 12) gibt vor, mit welcher Achse wir letztendlich arbeiten.</details>\n",
        "\n",
        "<details><summary>Wie unterscheiden sich Rabi-Oszillationen von Ramsey-Oszillationen?</summary> Rabi-Oszillation: Beginnen Sie mit einem Qubit im Grundzustand. Dann wenden wir einige Impulse an (Gauß- oder Rechteckimpulse sind üblich). Es gibt zwei Arten von Rabi-Oszillationen: Zeit-Rabi-Oszillation und Leistungs-Rabi-Oszillation.</details>\n",
        "\n",
        "- Bei der Zeit-Rabi-Oszillation ist die MAXIMALE Amplitude des Impulses dieselbe, aber wir erhöhen die Dauer des Impulses (vergrößern Sie die Fläche unter der Impulskurve). Der Bereich (ein Kästchen im Vorlesungsbeispiel) unter der Kurve des Pulses gibt die Rate an, mit der das Qubit rotiert 0→1→0→1→0→1...... daher Pi-Puls genannt.\n",
        "- Bei der Power-Rabi-Oszillation ist die Impulsdauer fest, aber ihre maximale Amplitude nimmt zu. Die Fläche unter der Kurve nimmt dabei vertikal zu.\n",
        "- Ramsery-Oszillation: Wenden Sie einen pi/2-Puls an, sodass sich das Qubit vom Grundzustand in einen Zustand im Äquator der Bloch-Kugel dreht (zur Visualisierung siehe Folie 14 im Vorlesungsskript). Dann eine gewisse Zeit warten → einen zweiten Impuls anlegen → warten → dritter Impuls .... und so weiter. Als Ergebnis erhalten wir Schwingungen, die zur Feinabstimmung der Qubit-Frequenz und zur Bestimmung von T2 verwendet werden können\n",
        "\n",
        "\n",
        "\n",
        "\n",
        "<!-- ::: -->"
      ]
    }
  ],
  "metadata": {
    "kernelspec": {
      "display_name": "Python 3",
      "language": "python",
      "name": "python3"
    },
    "language_info": {
      "codemirror_mode": {
        "name": "ipython",
        "version": 3
      },
      "file_extension": ".py",
      "mimetype": "text/x-python",
      "name": "python",
      "nbconvert_exporter": "python",
      "pygments_lexer": "ipython3",
      "version": "3.7.7"
    }
  },
  "nbformat": 4,
  "nbformat_minor": 4
}
