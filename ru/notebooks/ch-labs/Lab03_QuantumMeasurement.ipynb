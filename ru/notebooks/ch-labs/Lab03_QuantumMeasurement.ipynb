{
  "cells": [
    {
      "cell_type": "markdown",
      "metadata": {
        "tags": [
          "remove_cell"
        ]
      },
      "source": [
        "# Лабораторная работа 3. Квантовые измерения."
      ]
    },
    {
      "cell_type": "markdown",
      "metadata": {
      },
      "source": [
        "Предпосылка\n",
        "\n",
        "- [Глава 1.4 Одиночные кубитные вентили](https://qiskit.org/textbook/ch-states/single-qubit-gates.html)\n",
        "- [Глава 2.2 Множественные кубиты и запутанные состояния](https://qiskit.org/textbook/ch-gates/multiple-qubits-entangled-states.html)\n",
        "- [Уменьшение шума на реальных квантовых компьютерах](https://www.youtube.com/watch?v=yuDxHJOKsVA&list=PLOFEBzvs-Vvp2xg9-POLJhQwtVktlYGbY&index=8)\n",
        "\n",
        "Другие соответствующие материалы\n",
        "\n",
        "- [Фейнмановские лекции гл. III - 12](https://www.feynmanlectures.caltech.edu/III_12.html)\n",
        "- [Квантовая операция](https://qiskit.org/documentation/tutorials/circuits/3_summary_of_quantum_operations.html)\n",
        "- [Интерактивная сфера Блоха](https://nonhermitian.org/kaleido/stubs/kaleidoscope.interactive.bloch_sphere.html#kaleidoscope.interactive.bloch_sphere)\n",
        "- [Глава 5.2 Уменьшение ошибок измерения](https://qiskit.org/textbook/ch-quantum-hardware/measurement-error-mitigation.html)"
      ]
    },
    {
      "cell_type": "code",
      "execution_count": 1,
      "metadata": {
      },
      "outputs": [

      ],
      "source": [
        "from qiskit import *\n",
        "import numpy as np\n",
        "from numpy import linalg as la\n",
        "from qiskit.tools.monitor import job_monitor\n",
        "import qiskit.tools.jupyter"
      ]
    },
    {
      "cell_type": "markdown",
      "metadata": {
      },
      "source": [
        "<h2 style=\"font-size:24px;\">Часть 1: Измерение состояния кубита</h2>\n",
        "\n",
        "<br>\n",
        "<div style=\"background: #E8E7EB; border-radius: 5px;\n",
        "-moz-border-radius: 5px;\">\n",
        "  <p style=\"background: #800080;\n",
        "            border-radius: 5px 5px 0px 0px;\n",
        "            padding: 10px 0px 10px 10px;\n",
        "            font-size:18px;\n",
        "            color:white;\n",
        "            \"><b>Цель</b></p>\n",
        "    <p style=\" padding: 0px 0px 10px 10px;\n",
        "              font-size:16px;\">Определите блоховские компоненты кубита.</p>\n",
        "</div>\n",
        "\n",
        "В основе работы квантового компьютера лежит способность вычислять блоховские компоненты кубита или кубитов. Эти компоненты соответствуют средним значениям операторов Паули $X, Y, Z$ и являются важными величинами для таких приложений, как квантовая химия и оптимизация. К сожалению, невозможно одновременно вычислить эти значения, что требует многократного выполнения одной и той же схемы. Кроме того, измерения ограничены вычислительным базисом (Z-базисом), так что каждый Паули должен быть повернут к стандартному базису для доступа к компонентам x и y. Здесь мы проверяем методы, рассматривая случай случайного вектора на сфере Блоха."
      ]
    },
    {
      "cell_type": "markdown",
      "metadata": {
      },
      "source": [
        "<h3 style=\"font-size: 20px\">📓 1. Выразить средние значения операторов Паули для произвольного состояния кубита $|q\\rangle$ в вычислительном базисе.</h3>\n",
        "\n",
        "В качестве примера приведен случай ожидаемого значения Z-ворота Паули. "
      ]
    },
    {
      "cell_type": "markdown",
      "metadata": {
      },
      "source": [
        "Используя диагональное представление, также известное как спектральная форма или ортонормированное разложение, вентиля Паули $Z$ и соотношения между вентилями Паули (см. [здесь](https://qiskit.org/textbook/ch-states/single-qubit-gates.html) ), средние значения вентилей $X, Y, Z$ можно записать как\n",
        "\n",
        "$$ \\begin{align} \\langle Z \\rangle &amp;=\\langle q | Я | q\\rangle =\\langle q|0\\rangle\\langle 0|q\\rangle - \\langle q|1\\rangle\\langle 1|q\\rangle =|\\langle 0 |q\\rangle|^2 - |\\langle 1 | q\\rangle|^2\\\\ \\langle X \\rangle &amp;= \\\\ \\langle Y \\rangle &amp;= \\end{aligned} \\ $$ соответственно.\n",
        "\n",
        "Таким образом, математические ожидания Паулиса для состояния кубита $|q\\rangle$ могут быть получены путем проведения измерений в стандартном базисе после поворота стандартной базисной системы координат вдоль соответствующей оси. Вероятности получения двух возможных результатов 0 и 1 используются для оценки желаемого ожидаемого значения, как показывают приведенные выше уравнения."
      ]
    },
    {
      "cell_type": "markdown",
      "metadata": {
      },
      "source": [
        "<h3 style=\"font-size: 20px\">2. Измерить координаты кубита на сфере Блоха с помощью симулятора qasm и построить вектор на сфере Блоха.</h3>"
      ]
    },
    {
      "cell_type": "markdown",
      "metadata": {
      },
      "source": [
        "<h4 style=\"font-size: 17px\">📓Шаг А. Создайте состояние кубита, используя метод схемы, <code>initialize</code> двумя случайными комплексными числами в качестве параметра.</h4>\n",
        "\n",
        "Чтобы узнать, как использовать функцию `initialize` , проверьте [здесь](https://qiskit.org/documentation/tutorials/circuits/3_summary_of_quantum_operations.html) . (перейдите в раздел `arbitrary initialization` .)"
      ]
    },
    {
      "cell_type": "code",
      "execution_count": 2,
      "metadata": {
      },
      "outputs": [

      ],
      "source": [
        "qc = QuantumCircuit(1)\n",
        "\n",
        "#### your code goes here\n",
        "\n",
        "\n"
      ]
    },
    {
      "cell_type": "markdown",
      "metadata": {
      },
      "source": [
        "<h4 style=\"font-size: 17px\">📓 Шаг B. Постройте схемы для измерения ожидаемых значений вентиля $X, Y, Z$ на основе ваших ответов на вопрос 1. Запустите ячейку ниже, чтобы оценить координаты сферы Блоха кубита из шага A с помощью симулятора qasm. .</h4>\n",
        "\n",
        "В качестве примера приведена схема измерения ворот $Z$."
      ]
    },
    {
      "cell_type": "code",
      "execution_count": 3,
      "metadata": {
      },
      "outputs": [

      ],
      "source": [
        "# z measurement of qubit 0\n",
        "measure_z = QuantumCircuit(1,1)\n",
        "measure_z.measure(0,0)\n",
        "\n",
        "# x measurement of qubit 0\n",
        "measure_x = QuantumCircuit(1,1)\n",
        "# your code goes here\n",
        "\n",
        "\n",
        "\n",
        "\n",
        "\n",
        "\n",
        "\n",
        "# y measurement of qubit 0\n",
        "measure_y = QuantumCircuit(1,1)\n",
        "# your code goes here\n",
        "\n",
        "\n",
        "\n",
        "\n",
        "\n",
        "\n",
        "\n",
        "shots = 2**14 # number of samples used for statistics\n",
        "sim = Aer.get_backend('qasm_simulator')\n",
        "bloch_vector_measure = []\n",
        "for measure_circuit in [measure_x, measure_y, measure_z]:\n",
        "    \n",
        "    # run the circuit with a the selected measurement and get the number of samples that output each bit value\n",
        "    counts = execute(qc+measure_circuit, sim, shots=shots).result().get_counts()\n",
        "\n",
        "    # calculate the probabilities for each bit value\n",
        "    probs = {}\n",
        "    for output in ['0','1']:\n",
        "        if output in counts:\n",
        "            probs[output] = counts[output]/shots\n",
        "        else:\n",
        "            probs[output] = 0\n",
        "            \n",
        "    bloch_vector_measure.append( probs['0'] -  probs['1'] )\n",
        "\n",
        "# normalizing the bloch sphere vector\n",
        "bloch_vector = bloch_vector_measure/la.norm(bloch_vector_measure)\n",
        "\n",
        "print('The bloch sphere coordinates are [{0:4.3f}, {1:4.3f}, {2:4.3f}]'\n",
        "      .format(*bloch_vector))    "
      ]
    },
    {
      "cell_type": "markdown",
      "metadata": {
      },
      "source": [
        "<h4 style=\"font-size: 17px\">Шаг C. Постройте вектор на сфере Блоха.</h4>\n",
        "\n",
        "Обратите внимание, что следующая ячейка для интерактивной bloch_sphere не будет работать должным образом, если вы не работаете в [IQX](https://quantum-computing.ibm.com/login) . Вы можете либо использовать `plot_bloch_vector` для неинтерактивной версии, либо установить `kaleidoscope` , запустив\n",
        "\n",
        "```\n",
        "pip install kaleidoscope\n",
        "\n",
        "```\n",
        "\n",
        "в терминале. Вам также необходимо перезапустить ядро после установки. Чтобы узнать больше о том, как использовать интерактивную сферу Блоха, перейдите [сюда](https://nonhermitian.org/kaleido/stubs/kaleidoscope.interactive.bloch_sphere.html#kaleidoscope.interactive.bloch_sphere) ."
      ]
    },
    {
      "cell_type": "code",
      "execution_count": 4,
      "metadata": {
      },
      "outputs": [

      ],
      "source": [
        "from kaleidoscope.interactive import bloch_sphere\n",
        "\n",
        "bloch_sphere(bloch_vector, vectors_annotation=True)"
      ]
    },
    {
      "cell_type": "code",
      "execution_count": 5,
      "metadata": {
      },
      "outputs": [

      ],
      "source": [
        "from qiskit.visualization import plot_bloch_vector\n",
        "\n",
        "plot_bloch_vector( bloch_vector )"
      ]
    },
    {
      "cell_type": "markdown",
      "metadata": {
      },
      "source": [
        "<h2 style=\"font-size:24px;\">Часть 2: Измерение энергии</h2>\n",
        "\n",
        "<br>\n",
        "<div style=\"background: #E8E7EB; border-radius: 5px;\n",
        "-moz-border-radius: 5px;\">\n",
        "  <p style=\"background: #800080;\n",
        "            border-radius: 5px 5px 0px 0px;\n",
        "            padding: 10px 0px 10px 10px;\n",
        "            font-size:18px;\n",
        "            color:white;\n",
        "            \"><b>Цель</b></p>\n",
        "    <p style=\" padding: 0px 0px 10px 10px;\n",
        "              font-size:16px;\">Оцените энергетические уровни основного состояния водорода с помощью симулятора qasm.</p>\n",
        "</div>\n",
        "\n",
        "Энергию квантовой системы можно оценить, измерив среднее значение ее гамильтониана, который является эрмитовым оператором, с помощью процедуры, которую мы освоили в части 1.\n",
        "\n",
        "Основное состояние водорода не определяется как единственное уникальное состояние, а фактически содержит четыре различных состояния из-за спинов электрона и протона. Во второй части этой лабораторной работы мы оцениваем разницу энергий между этими четырьмя состояниями, полученную из `hyperfine splitting` , вычисляя среднее значение энергии для системы двух спинов с гамильтонианом, выраженным в операторах Паули. Подробнее о `hyperfine structure` см. [здесь](https://www.feynmanlectures.caltech.edu/III_12.html)"
      ]
    },
    {
      "cell_type": "markdown",
      "metadata": {
      },
      "source": [
        "Рассмотрим систему с гамильтонианом взаимодействия двух кубитов $H = A(XX+YY+ZZ)$, где $A = 1,47e^{-6} эВ$, а $X, Y, Z$ — вентили Паули. Затем математическое ожидание энергии системы можно оценить, объединив математическое ожидание каждого члена гамильтониана. В этом случае $E = \\langle H\\rangle = A( \\langle XX\\rangle + \\langle YY\\rangle + \\langle ZZ\\rangle )$. "
      ]
    },
    {
      "cell_type": "markdown",
      "metadata": {
      },
      "source": [
        "<h3 style=\"font-size: 20px\">📓 1. Выразите математическое ожидание каждого члена гамильтониана для произвольного двухкубитного состояния $|\\psi \\rangle$ в вычислительном базисе.</h3>\n",
        "\n",
        "Случай с термином $\\langle ZZ\\rangle$ приведен в качестве примера.\n",
        "\n",
        "$$ \\begin{align} \\langle ZZ\\rangle &amp;=\\langle \\psi | ЗЗ | \\psi\\rangle =\\langle \\psi|(|0\\rangle\\langle 0| - |1\\rangle\\langle 1|)\\otimes(|0\\rangle\\langle 0| - |1\\rangle\\langle 1|) |\\psi\\rangle =|\\langle 00|\\psi\\rangle|^2 - |\\langle 01 | \\psi\\rangle|^2 - |\\langle 10 | \\psi\\rangle|^2 + |\\langle 11|\\psi\\rangle|^2\\\\ \\langle XX\\rangle &amp;= \\\\ \\langle YY\\rangle &amp;= \\end{aligned} $$"
      ]
    },
    {
      "cell_type": "markdown",
      "metadata": {
      },
      "source": [
        "<h3 style=\"font-size: 20px\">2. Измерить ожидаемую энергию системы с помощью симулятора qasm, когда два кубита запутаны. Рассмотрим основу колокола, четыре различных запутанных состояния.</h3>"
      ]
    },
    {
      "cell_type": "markdown",
      "metadata": {
      },
      "source": [
        "<h4 style=\"font-size: 17px\">📓Шаг A. Постройте схемы, чтобы подготовить четыре разных состояния звонка.</h4>\n",
        "\n",
        "Обозначим каждое состояние звонка как $$ \\begin{aligned} Tri1 &amp;= \\frac{1}{\\sqrt2} (|00\\rangle + |11\\rangle)\\ Tri2 &amp;= \\frac{1}{\\sqrt2} (|00\\rangle - |11\\rangle)\\ Tri3 &amp;= \\frac{1}{\\sqrt2} (|01\\rangle + |10\\rangle)\\ Sing &amp;= \\frac{1}{\\sqrt2} (| 10\\rangle - |01\\rangle) \\end{выровнено} $$"
      ]
    },
    {
      "cell_type": "code",
      "execution_count": 6,
      "metadata": {
      },
      "outputs": [

      ],
      "source": [
        "# circuit for the state Tri1\n",
        "Tri1 = QuantumCircuit(2)\n",
        "# your code goes here\n",
        "\n",
        "\n",
        "\n",
        "\n",
        "\n",
        "\n",
        "# circuit for the state Tri2\n",
        "Tri2 = QuantumCircuit(2)\n",
        "# your code goes here\n",
        "\n",
        "\n",
        "\n",
        "\n",
        "\n",
        "# circuit for the state Tri3\n",
        "Tri3 = QuantumCircuit(2)\n",
        "# your code goes here\n",
        "\n",
        "\n",
        "\n",
        "\n",
        "\n",
        "\n",
        "# circuit for the state Sing\n",
        "Sing = QuantumCircuit(2)\n",
        "# your code goes here\n",
        "\n",
        "\n",
        "\n",
        "\n",
        "\n"
      ]
    },
    {
      "cell_type": "markdown",
      "metadata": {
      },
      "source": [
        "<h4 style=\"font-size: 17px\">📓Шаг B. Создайте схемы для измерения ожидаемого значения каждого члена гамильтониана на основе вашего ответа на вопрос 1.</h4>"
      ]
    },
    {
      "cell_type": "code",
      "execution_count": 135,
      "metadata": {
      },
      "outputs": [

      ],
      "source": [
        "# <ZZ> \n",
        "measure_ZZ = QuantumCircuit(2)\n",
        "measure_ZZ.measure_all()\n",
        "\n",
        "# <XX>\n",
        "measure_XX = QuantumCircuit(2)\n",
        "# your code goes here\n",
        "\n",
        "\n",
        "\n",
        "\n",
        "\n",
        "# <YY>\n",
        "measure_YY = QuantumCircuit(2)\n",
        "# your code goes here\n",
        "\n",
        "\n",
        "\n",
        "\n"
      ]
    },
    {
      "cell_type": "markdown",
      "metadata": {
      },
      "source": [
        " <h4 style=\"font-size: 17px\">Шаг C. Выполните схемы на симуляторе qasm, запустив ячейку ниже, и оцените ожидаемое значение энергии для каждого состояния.</h4>\n"
      ]
    },
    {
      "cell_type": "code",
      "execution_count": 136,
      "metadata": {
      },
      "outputs": [

      ],
      "source": [
        "shots = 2**14 # number of samples used for statistics\n",
        "\n",
        "A = 1.47e-6 #unit of A is eV\n",
        "E_sim = []\n",
        "for state_init in [Tri1,Tri2,Tri3,Sing]:\n",
        "    Energy_meas = []\n",
        "    for measure_circuit in [measure_XX, measure_YY, measure_ZZ]:\n",
        "    \n",
        "        # run the circuit with a the selected measurement and get the number of samples that output each bit value\n",
        "        qc = state_init+measure_circuit\n",
        "        counts = execute(qc, sim, shots=shots).result().get_counts()\n",
        "\n",
        "        # calculate the probabilities for each computational basis\n",
        "        probs = {}\n",
        "        for output in ['00','01', '10', '11']:\n",
        "            if output in counts:\n",
        "                probs[output] = counts[output]/shots\n",
        "            else:\n",
        "                probs[output] = 0\n",
        "            \n",
        "        Energy_meas.append( probs['00'] - probs['01'] - probs['10'] + probs['11'] )\n",
        " \n",
        "    E_sim.append(A * np.sum(np.array(Energy_meas)))"
      ]
    },
    {
      "cell_type": "code",
      "execution_count": 7,
      "metadata": {
      },
      "outputs": [

      ],
      "source": [
        "# Run this cell to print out your results\n",
        "\n",
        "print('Energy expection value of the state Tri1 : {:.3e} eV'.format(E_sim[0]))\n",
        "print('Energy expection value of the state Tri2 : {:.3e} eV'.format(E_sim[1]))\n",
        "print('Energy expection value of the state Tri3 : {:.3e} eV'.format(E_sim[2]))\n",
        "print('Energy expection value of the state Sing : {:.3e} eV'.format(E_sim[3]))"
      ]
    },
    {
      "cell_type": "markdown",
      "metadata": {
      },
      "source": [
        " <h4 style=\"font-size: 17px\">Шаг D. Понимание результата.</h4>\n",
        "\n",
        "\n",
        "Если бы вы успешно нашли средние значения энергии, вы бы получили точно такое же значение, $A (= 1,47e^{-6} эВ)$, для тройных значений, $|Tri1\\rangle, |Tri2\\rangle, | Tri3\\rangle$ и один нижний энергетический уровень $-3A (= -4,41e^{-6} эВ)$ для синглетного состояния $|Sing\\rangle$.\n",
        "\n",
        "Здесь мы измерили энергии четырех различных спиновых состояний, соответствующих основному состоянию водорода, и наблюдаемую `hyperfine structure` на энергетических уровнях, вызванную спин-спиновым взаимодействием. Эта крошечная разница в энергии между синглетным и триплетным состояниями является причиной знаменитого излучения с длиной волны 21 см, используемого для картирования структуры галактики. "
      ]
    },
    {
      "cell_type": "markdown",
      "metadata": {
      },
      "source": [
        "В ячейке ниже мы изменяем длину волны излучения от перехода между триплетными состояниями и синглетным состоянием. "
      ]
    },
    {
      "cell_type": "code",
      "execution_count": 8,
      "metadata": {
      },
      "outputs": [

      ],
      "source": [
        "# reduced plank constant in (eV) and the speed of light(cgs units)\n",
        "hbar, c = 4.1357e-15, 3e10\n",
        "\n",
        "# energy difference between the triplets and singlet\n",
        "E_del = abs(E_sim[0] - E_sim[3])\n",
        "\n",
        "# frequency associated with the energy difference\n",
        "f = E_del/hbar\n",
        "\n",
        "# convert frequency to wavelength in (cm) \n",
        "wavelength = c/f\n",
        "\n",
        "print('The wavelength of the radiation from the transition\\\n",
        " in the hyperfine structure is : {:.1f} cm'.format(wavelength))"
      ]
    },
    {
      "cell_type": "markdown",
      "metadata": {
      },
      "source": [
        "<h2 style=\"font-size:24px;\">Часть 3. Выполнение схем на квантовом компьютере</h2>\n",
        "\n",
        "<br>\n",
        "<div style=\"background: #E8E7EB; border-radius: 5px;\n",
        "-moz-border-radius: 5px;\">\n",
        "  <p style=\"background: #800080;\n",
        "            border-radius: 5px 5px 0px 0px;\n",
        "            padding: 10px 0px 10px 10px;\n",
        "            font-size:18px;\n",
        "            color:white;\n",
        "            \"><b>Цель</b></p>\n",
        "    <p style=\" padding: 0px 0px 10px 10px;\n",
        "              font-size:16px;\">Перезапустите схемы на квантовой системе IBM. Выполните уменьшение ошибки измерения в результате, чтобы повысить точность оценки энергии.</p>\n",
        "</div>"
      ]
    },
    {
      "cell_type": "markdown",
      "metadata": {
      },
      "source": [
        "<h4 style=\"font-size: 17px\">Шаг A. Запустите следующие ячейки, чтобы загрузить свою учетную запись и выбрать серверную часть.</h4>"
      ]
    },
    {
      "cell_type": "code",
      "execution_count": 139,
      "metadata": {
        "tags": [
          "uses-hardware"
        ]
      },
      "outputs": [

      ],
      "source": [
        "provider = IBMQ.load_account()"
      ]
    },
    {
      "cell_type": "code",
      "execution_count": 178,
      "metadata": {
        "tags": [
          "uses-hardware"
        ]
      },
      "outputs": [

      ],
      "source": [
        "backend = provider.get_backend('ibmq_athens')"
      ]
    },
    {
      "cell_type": "markdown",
      "metadata": {
      },
      "source": [
        "<h4 style=\"font-size: 17px\">Шаг B. Выполните схемы на квантовой системе.</h4>\n",
        "\n",
        "В Lab1, когда мы выполнили несколько схем в реальной квантовой системе, мы представили каждую схему как отдельное задание, которое создает несколько идентификаторов заданий. На этот раз мы помещаем все схемы в список и выполняем список цепей как одно задание. Таким образом, выполнение всей схемы может происходить одновременно, что, возможно, сократит время ожидания в очереди.\n",
        "\n",
        "Кроме того, `transpile` здесь не используется, так как все схемы, которые мы запускаем, состоят из одного или двух вентилей кубита. Мы по-прежнему можем указать начальный_макет и уровень оптимизации через функцию `execute` . Без использования `transpile` транспилированные схемы недоступны, что не является проблемой в данном случае. "
      ]
    },
    {
      "cell_type": "markdown",
      "metadata": {
      },
      "source": [
        "<p>📓 Проверьте информацию о конфигурации бэкенда и карту ошибок через виджет, чтобы определить свой <code>initial_layout</code> .</p>"
      ]
    },
    {
      "cell_type": "code",
      "execution_count": null,
      "metadata": {
        "tags": [
          "uses-hardware"
        ]
      },
      "outputs": [

      ],
      "source": [
        "# run this cell to get the backend information through the widget\n",
        "backend"
      ]
    },
    {
      "cell_type": "code",
      "execution_count": null,
      "metadata": {
        "tags": [
          "uses-hardware"
        ]
      },
      "outputs": [

      ],
      "source": [
        "# assign your choice for the initial layout to the list variable `initial_layout`.\n",
        "initial_layout = "
      ]
    },
    {
      "cell_type": "markdown",
      "metadata": {
      },
      "source": [
        "Запустите следующую ячейку, чтобы выполнить схемы с initial_layout на серверной части."
      ]
    },
    {
      "cell_type": "code",
      "execution_count": 9,
      "metadata": {
        "tags": [
          "uses-hardware"
        ]
      },
      "outputs": [

      ],
      "source": [
        "qc_all = [state_init+measure_circuit for state_init in [Tri1,Tri2,Tri3,Sing] \n",
        "          for measure_circuit in [measure_XX, measure_YY, measure_ZZ] ]  \n",
        "\n",
        "shots = 8192\n",
        "job = execute(qc_all, backend, initial_layout=initial_layout, optimization_level=3, shots=shots)\n",
        "print(job.job_id())\n",
        "job_monitor(job)"
      ]
    },
    {
      "cell_type": "code",
      "execution_count": 159,
      "metadata": {
        "tags": [
          "uses-hardware"
        ]
      },
      "outputs": [

      ],
      "source": [
        "# getting the results of your job\n",
        "results = job.result()"
      ]
    },
    {
      "cell_type": "code",
      "execution_count": 160,
      "metadata": {
        "tags": [
          "uses-hardware"
        ]
      },
      "outputs": [

      ],
      "source": [
        "## To access the results of the completed job\n",
        "#results = backend.retrieve_job('job_id').result()"
      ]
    },
    {
      "cell_type": "markdown",
      "metadata": {
      },
      "source": [
        "<h4 style=\"font-size: 17px\">Шаг C. Оцените уровни энергии основного состояния по результатам предыдущего шага, выполнив ячейки ниже.</h4>"
      ]
    },
    {
      "cell_type": "code",
      "execution_count": 161,
      "metadata": {
        "tags": [
          "uses-hardware"
        ]
      },
      "outputs": [

      ],
      "source": [
        "def Energy(results, shots):\n",
        "    \"\"\"Compute the energy levels of the hydrogen ground state.\n",
        "    \n",
        "    Parameters:\n",
        "        results (obj): results, results from executing the circuits for measuring a hamiltonian.\n",
        "        shots (int): shots, number of shots used for the circuit execution.\n",
        "        \n",
        "    Returns:\n",
        "        Energy (list): energy values of the four different hydrogen ground states\n",
        "    \"\"\"\n",
        "    E = []\n",
        "    A = 1.47e-6\n",
        "\n",
        "    for ind_state in range(4):\n",
        "        Energy_meas = []\n",
        "        for ind_comp in range(3):\n",
        "            counts = results.get_counts(ind_state*3+ind_comp)\n",
        "        \n",
        "            # calculate the probabilities for each computational basis\n",
        "            probs = {}\n",
        "            for output in ['00','01', '10', '11']:\n",
        "                if output in counts:\n",
        "                    probs[output] = counts[output]/shots\n",
        "                else:\n",
        "                    probs[output] = 0\n",
        "            \n",
        "            Energy_meas.append( probs['00'] - probs['01'] - probs['10'] + probs['11'] )\n",
        "\n",
        "        E.append(A * np.sum(np.array(Energy_meas)))\n",
        "    \n",
        "    return E"
      ]
    },
    {
      "cell_type": "code",
      "execution_count": 10,
      "metadata": {
        "tags": [
          "uses-hardware"
        ]
      },
      "outputs": [

      ],
      "source": [
        "E = Energy(results, shots)\n",
        "\n",
        "print('Energy expection value of the state Tri1 : {:.3e} eV'.format(E[0]))\n",
        "print('Energy expection value of the state Tri2 : {:.3e} eV'.format(E[1]))\n",
        "print('Energy expection value of the state Tri3 : {:.3e} eV'.format(E[2]))\n",
        "print('Energy expection value of the state Sing : {:.3e} eV'.format(E[3]))"
      ]
    },
    {
      "cell_type": "markdown",
      "metadata": {
      },
      "source": [
        "<h4 style=\"font-size: 17px\">Шаг D. Уменьшение ошибки измерения.</h4>\n",
        "\n",
        "Результаты, полученные при запуске схем в квантовой системе, неточны из-за шума от различных источников, таких как релаксация энергии, расфазировка, перекрестные помехи между кубитами и т. д. На этом этапе мы ослабим влияние шума с помощью уменьшение погрешности измерения. Прежде чем мы начнем, посмотрите это [видео](https://www.youtube.com/watch?v=yuDxHJOKsVA&list=PLOFEBzvs-Vvp2xg9-POLJhQwtVktlYGbY&index=8) . "
      ]
    },
    {
      "cell_type": "code",
      "execution_count": 163,
      "metadata": {
        "tags": [
          "uses-hardware"
        ]
      },
      "outputs": [

      ],
      "source": [
        "from qiskit.ignis.mitigation.measurement import *"
      ]
    },
    {
      "cell_type": "markdown",
      "metadata": {
      },
      "source": [
        "<p>📓Создайте схемы для профилирования ошибок измерения всех базовых состояний, используя функцию «complete_meas_cal». Получите объект фильтра измерения, 'meas_filter', который будет применяться к зашумленным результатам, чтобы смягчить ошибку считывания (измерения).</p> "
      ]
    },
    {
      "cell_type": "markdown",
      "metadata": {
      },
      "source": [
        "Для получения дополнительной полезной информации для выполнения этой задачи проверьте [здесь](https://qiskit.org/textbook/ch-quantum-hardware/measurement-error-mitigation.html) . "
      ]
    },
    {
      "cell_type": "code",
      "execution_count": 11,
      "metadata": {
        "scrolled": true,
        "tags": [
          "uses-hardware"
        ]
      },
      "outputs": [

      ],
      "source": [
        "# your code to create the circuits, meas_calibs, goes here\n",
        "meas_calibs, state_labels = \n",
        "\n",
        "\n",
        "\n",
        "# execute meas_calibs on your choice of the backend\n",
        "job = execute(meas_calibs, backend, shots = shots)\n",
        "print(job.job_id())\n",
        "job_monitor(job)\n",
        "cal_results = job.result()\n",
        "## To access the results of the completed job\n",
        "#cal_results = backend.retrieve_job('job_id').result()\n",
        "\n",
        "\n",
        "# your code to obtain the measurement filter object, 'meas_filter', goes here\n",
        "\n",
        "\n",
        "\n",
        "\n"
      ]
    },
    {
      "cell_type": "code",
      "execution_count": 165,
      "metadata": {
        "tags": [
          "uses-hardware"
        ]
      },
      "outputs": [

      ],
      "source": [
        "results_new = meas_filter.apply(results)"
      ]
    },
    {
      "cell_type": "code",
      "execution_count": 13,
      "metadata": {
        "tags": [
          "uses-hardware"
        ]
      },
      "outputs": [

      ],
      "source": [
        "E_new = Energy(results_new, shots)\n",
        "\n",
        "print('Energy expection value of the state Tri1 : {:.3e} eV'.format(E_new[0]))\n",
        "print('Energy expection value of the state Tri2 : {:.3e} eV'.format(E_new[1]))\n",
        "print('Energy expection value of the state Tri3 : {:.3e} eV'.format(E_new[2]))\n",
        "print('Energy expection value of the state Sing : {:.3e} eV'.format(E_new[3]))"
      ]
    },
    {
      "cell_type": "markdown",
      "metadata": {
      },
      "source": [
        "<h4 style=\"font-size: 17px\">Шаг E. Интерпретируйте результат.</h4>"
      ]
    },
    {
      "cell_type": "markdown",
      "metadata": {
      },
      "source": [
        "<p>📓 Вычислите относительные ошибки (или дробную ошибку) значений энергии для всех четырех состояний с уменьшением ошибки измерения и без него.</p>"
      ]
    },
    {
      "cell_type": "code",
      "execution_count": 167,
      "metadata": {
        "tags": [
          "uses-hardware"
        ]
      },
      "outputs": [

      ],
      "source": [
        "# results for the energy estimation from the simulation, \n",
        "# execution on a quantum system without error mitigation and\n",
        "# with error mitigation in numpy array format \n",
        "Energy_exact, Energy_exp_orig, Energy_exp_new = np.array(E_sim), np.array(E), np.array(E_new)"
      ]
    },
    {
      "cell_type": "code",
      "execution_count": 179,
      "metadata": {
        "tags": [
          "uses-hardware"
        ]
      },
      "outputs": [

      ],
      "source": [
        "# Calculate the relative errors of the energy values without error mitigation \n",
        "# and assign to the numpy array variable `Err_rel_orig` of size 4\n",
        "Err_rel_orig = "
      ]
    },
    {
      "cell_type": "code",
      "execution_count": 169,
      "metadata": {
        "tags": [
          "uses-hardware"
        ]
      },
      "outputs": [

      ],
      "source": [
        "# Calculate the relative errors of the energy values with error mitigation \n",
        "# and assign to the numpy array variable `Err_rel_new` of size 4\n",
        "Err_rel_new = "
      ]
    },
    {
      "cell_type": "code",
      "execution_count": 14,
      "metadata": {
        "tags": [
          "uses-hardware"
        ]
      },
      "outputs": [

      ],
      "source": [
        "np.set_printoptions(precision=3)\n",
        "\n",
        "print('The relative errors of the energy values for four bell basis\\\n",
        " without measurement error mitigation : {}'.format(Err_rel_orig))"
      ]
    },
    {
      "cell_type": "code",
      "execution_count": 15,
      "metadata": {
        "tags": [
          "uses-hardware"
        ]
      },
      "outputs": [

      ],
      "source": [
        "np.set_printoptions(precision=3)\n",
        "\n",
        "print('The relative errors of the energy values for four bell basis\\\n",
        " with measurement error mitigation : {}'.format(Err_rel_new))"
      ]
    },
    {
      "cell_type": "markdown",
      "metadata": {
      },
      "source": [
        "<p>📓 Сравните размер ошибок до и после устранения ошибок измерения и обсудите влияние ошибки считывания на информацию карты ошибок выбранного вами бэкэнда.</p> "
      ]
    },
    {
      "cell_type": "markdown",
      "metadata": {
      },
      "source": [
        "**Ваш ответ:**"
      ]
    }
  ],
  "metadata": {
    "kernelspec": {
      "display_name": "Python 3",
      "language": "python",
      "name": "python3"
    },
    "language_info": {
      "codemirror_mode": {
        "name": "ipython",
        "version": 3
      },
      "file_extension": ".py",
      "mimetype": "text/x-python",
      "name": "python",
      "nbconvert_exporter": "python",
      "pygments_lexer": "ipython3",
      "version": "3.7.0"
    },
    "widgets": {
      "application/vnd.jupyter.widget-state+json": {
        "state": {
          "053a7a003d384dfebb97c58df06898e5": {
            "model_module": "@jupyter-widgets/controls",
            "model_module_version": "1.5.0",
            "model_name": "HTMLModel",
            "state": {
              "layout": "IPY_MODEL_98a58049fb764105bd20af4f5a26b992",
              "style": "IPY_MODEL_8ce05649dbcc4a75a8fdd3b74147b7d3",
              "value": "<h5>Backend</h5>"
            }
          },
          "1407ba5e1f6f4609bb0eaa98e583c5eb": {
            "model_module": "@jupyter-widgets/controls",
            "model_module_version": "1.5.0",
            "model_name": "DescriptionStyleModel",
            "state": {
              "description_width": ""
            }
          },
          "292078c1a0714234a771b6c726222f4f": {
            "model_module": "@jupyter-widgets/base",
            "model_module_version": "1.2.0",
            "model_name": "LayoutModel",
            "state": {
              "grid_area": "right",
              "padding": "0px 0px 0px 0px",
              "width": "70px"
            }
          },
          "2c620d67515e435c8f97c69ff12dac64": {
            "model_module": "@jupyter-widgets/controls",
            "model_module_version": "1.5.0",
            "model_name": "HTMLModel",
            "state": {
              "layout": "IPY_MODEL_35c0cbc92bcd4d9abd21f1fbcb8de5e5",
              "style": "IPY_MODEL_1407ba5e1f6f4609bb0eaa98e583c5eb",
              "value": "<h5>Job ID</h5>"
            }
          },
          "30041a66acd34e1ba9ba9c5ecc341b02": {
            "model_module": "@jupyter-widgets/controls",
            "model_module_version": "1.5.0",
            "model_name": "ButtonModel",
            "state": {
              "button_style": "primary",
              "description": "Clear",
              "layout": "IPY_MODEL_292078c1a0714234a771b6c726222f4f",
              "style": "IPY_MODEL_649905a5e6a34a1f9cfdb7216b254578"
            }
          },
          "35c0cbc92bcd4d9abd21f1fbcb8de5e5": {
            "model_module": "@jupyter-widgets/base",
            "model_module_version": "1.2.0",
            "model_name": "LayoutModel",
            "state": {
              "width": "190px"
            }
          },
          "4c31796715eb4f19a97b4bd647f3aa15": {
            "model_module": "@jupyter-widgets/controls",
            "model_module_version": "1.5.0",
            "model_name": "HBoxModel",
            "state": {
              "children": [
                "IPY_MODEL_2c620d67515e435c8f97c69ff12dac64",
                "IPY_MODEL_053a7a003d384dfebb97c58df06898e5",
                "IPY_MODEL_d4d9c546cd364c449692c73ccc217387",
                "IPY_MODEL_da0721ffb6964a7dabf3ef390d3b1a24",
                "IPY_MODEL_bda6cd9e1a39461cbb45c1782cd7bb8e"
              ],
              "layout": "IPY_MODEL_85de4a191ba24884a21b27f7097ea867"
            }
          },
          "5c968b5f5d8d422e8838e021f921fb64": {
            "model_module": "@jupyter-widgets/controls",
            "model_module_version": "1.5.0",
            "model_name": "DescriptionStyleModel",
            "state": {
              "description_width": ""
            }
          },
          "649905a5e6a34a1f9cfdb7216b254578": {
            "model_module": "@jupyter-widgets/controls",
            "model_module_version": "1.5.0",
            "model_name": "ButtonStyleModel",
            "state": {
            }
          },
          "7345eadaf8cb49019b7b818093cc220c": {
            "model_module": "@jupyter-widgets/base",
            "model_module_version": "1.2.0",
            "model_name": "LayoutModel",
            "state": {
              "width": "95px"
            }
          },
          "85de4a191ba24884a21b27f7097ea867": {
            "model_module": "@jupyter-widgets/base",
            "model_module_version": "1.2.0",
            "model_name": "LayoutModel",
            "state": {
              "margin": "0px 0px 0px 37px",
              "width": "600px"
            }
          },
          "86d543d59d874dba87a6596166bfc26f": {
            "model_module": "@jupyter-widgets/controls",
            "model_module_version": "1.5.0",
            "model_name": "DescriptionStyleModel",
            "state": {
              "description_width": ""
            }
          },
          "885b4e893c1a4044a1e11a58b3488fb9": {
            "model_module": "@jupyter-widgets/base",
            "model_module_version": "1.2.0",
            "model_name": "LayoutModel",
            "state": {
            }
          },
          "8c0a0af9ecb54e6bb483f4a6857b0837": {
            "model_module": "@jupyter-widgets/base",
            "model_module_version": "1.2.0",
            "model_name": "LayoutModel",
            "state": {
              "width": "70px"
            }
          },
          "8ce05649dbcc4a75a8fdd3b74147b7d3": {
            "model_module": "@jupyter-widgets/controls",
            "model_module_version": "1.5.0",
            "model_name": "DescriptionStyleModel",
            "state": {
              "description_width": ""
            }
          },
          "98a58049fb764105bd20af4f5a26b992": {
            "model_module": "@jupyter-widgets/base",
            "model_module_version": "1.2.0",
            "model_name": "LayoutModel",
            "state": {
              "width": "145px"
            }
          },
          "b5a93c630bdc412f86c0b82a808b835c": {
            "model_module": "@jupyter-widgets/controls",
            "model_module_version": "1.5.0",
            "model_name": "HTMLModel",
            "state": {
              "layout": "IPY_MODEL_dc44bab9524c466dae14fc606971cc66",
              "style": "IPY_MODEL_5c968b5f5d8d422e8838e021f921fb64",
              "value": "<p style='font-family: IBM Plex Sans, Arial, Helvetica, sans-serif; font-size: 20px; font-weight: medium;'>Circuit Properties</p>"
            }
          },
          "bda6cd9e1a39461cbb45c1782cd7bb8e": {
            "model_module": "@jupyter-widgets/controls",
            "model_module_version": "1.5.0",
            "model_name": "HTMLModel",
            "state": {
              "layout": "IPY_MODEL_885b4e893c1a4044a1e11a58b3488fb9",
              "style": "IPY_MODEL_c0a7bfb516af4616a82e1a5498a16944",
              "value": "<h5>Message</h5>"
            }
          },
          "c0a7bfb516af4616a82e1a5498a16944": {
            "model_module": "@jupyter-widgets/controls",
            "model_module_version": "1.5.0",
            "model_name": "DescriptionStyleModel",
            "state": {
              "description_width": ""
            }
          },
          "d4d9c546cd364c449692c73ccc217387": {
            "model_module": "@jupyter-widgets/controls",
            "model_module_version": "1.5.0",
            "model_name": "HTMLModel",
            "state": {
              "layout": "IPY_MODEL_7345eadaf8cb49019b7b818093cc220c",
              "style": "IPY_MODEL_e0b7db9b0a194fdb8d39fda0871c98da",
              "value": "<h5>Status</h5>"
            }
          },
          "da0721ffb6964a7dabf3ef390d3b1a24": {
            "model_module": "@jupyter-widgets/controls",
            "model_module_version": "1.5.0",
            "model_name": "HTMLModel",
            "state": {
              "layout": "IPY_MODEL_8c0a0af9ecb54e6bb483f4a6857b0837",
              "style": "IPY_MODEL_86d543d59d874dba87a6596166bfc26f",
              "value": "<h5>Queue</h5>"
            }
          },
          "dc44bab9524c466dae14fc606971cc66": {
            "model_module": "@jupyter-widgets/base",
            "model_module_version": "1.2.0",
            "model_name": "LayoutModel",
            "state": {
              "margin": "0px 0px 10px 0px"
            }
          },
          "dc6c351bd90e4b18b81eb926e7b9577c": {
            "model_module": "@jupyter-widgets/base",
            "model_module_version": "1.2.0",
            "model_name": "LayoutModel",
            "state": {
              "grid_template_areas": "\n                                       \". . . . right \"\n                                        ",
              "grid_template_columns": "20% 20% 20% 20% 20%",
              "width": "100%"
            }
          },
          "e0b7db9b0a194fdb8d39fda0871c98da": {
            "model_module": "@jupyter-widgets/controls",
            "model_module_version": "1.5.0",
            "model_name": "DescriptionStyleModel",
            "state": {
              "description_width": ""
            }
          },
          "e7a44e7bd5e047cf844561941c72dec0": {
            "model_module": "@jupyter-widgets/controls",
            "model_module_version": "1.5.0",
            "model_name": "GridBoxModel",
            "state": {
              "children": [
                "IPY_MODEL_30041a66acd34e1ba9ba9c5ecc341b02"
              ],
              "layout": "IPY_MODEL_dc6c351bd90e4b18b81eb926e7b9577c"
            }
          }
        },
        "version_major": 2,
        "version_minor": 0
      }
    }
  },
  "nbformat": 4,
  "nbformat_minor": 2
}
